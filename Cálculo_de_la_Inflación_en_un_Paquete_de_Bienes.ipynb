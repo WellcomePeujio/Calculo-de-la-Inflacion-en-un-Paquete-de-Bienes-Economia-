{
  "nbformat": 4,
  "nbformat_minor": 0,
  "metadata": {
    "colab": {
      "private_outputs": true,
      "provenance": [],
      "authorship_tag": "ABX9TyOGezMKKqVINXysehmgayrB",
      "include_colab_link": true
    },
    "kernelspec": {
      "name": "python3",
      "display_name": "Python 3"
    },
    "language_info": {
      "name": "python"
    }
  },
  "cells": [
    {
      "cell_type": "markdown",
      "metadata": {
        "id": "view-in-github",
        "colab_type": "text"
      },
      "source": [
        "<a href=\"https://colab.research.google.com/github/WellcomePeujio/Calculo-de-la-Inflacion-en-un-Paquete-de-Bienes-Economia-/blob/main/C%C3%A1lculo_de_la_Inflaci%C3%B3n_en_un_Paquete_de_Bienes.ipynb\" target=\"_parent\"><img src=\"https://colab.research.google.com/assets/colab-badge.svg\" alt=\"Open In Colab\"/></a>"
      ]
    },
    {
      "cell_type": "markdown",
      "source": [
        "# Cálculo de la Inflación en un Paquete de Bienes (Economía)\n",
        "\n",
        "**Problema**: Un economista analiza la inflación mediante un índice de precios al consumidor (IPC) para un paquete de bienes. En el primer año, el paquete cuesta **200 dólares**. Un año después, el costo ha subido a **215 dólares**.\n",
        "\n",
        "**Preguntas**:\n",
        "\n",
        "1. Calcula la tasa de inflación interanual.\n",
        "2. Si la inflación se mantiene constante, ¿cuánto costará el paquete en 3 años?\n"
      ],
      "metadata": {
        "id": "qWSa9HAZFa-S"
      }
    },
    {
      "cell_type": "markdown",
      "source": [
        "# Resolución del Cálculo de la Inflación en un Paquete de Bienes\n",
        "\n",
        "## Paso 1: Cálculo de la Tasa de Inflación Interanual\n",
        "\n",
        "Para calcular la tasa de inflación interanual, utilizamos la fórmula:\n",
        "\n",
        "$$\n",
        "\\text{Inflación} = \\frac{\\text{Costo en el Año 2} - \\text{Costo en el Año 1}}{\\text{Costo en el Año 1}} \\times 100\n",
        "$$\n",
        "\n",
        "Dado que el costo del paquete en el primer año es **200 dólares** y en el segundo año es **215 dólares**, sustituimos estos valores en la fórmula:\n",
        "\n",
        "$$\n",
        "\\text{Inflación} = \\frac{215 - 200}{200} \\times 100\n",
        "$$\n",
        "\n",
        "Simplificamos los valores:\n",
        "\n",
        "$$\n",
        "\\text{Inflación} = \\frac{15}{200} \\times 100 = 7.5\\%\n",
        "$$\n",
        "\n",
        "Por lo tanto, la tasa de inflación interanual es del **7.5%**.\n",
        "\n",
        "## Paso 2: Cálculo del Costo del Paquete en 3 Años si la Inflación se Mantiene Constante\n",
        "\n",
        "Si la tasa de inflación se mantiene constante en un 7.5% anual, podemos calcular el costo del paquete en 3 años usando la fórmula de crecimiento compuesto:\n",
        "\n",
        "$$\n",
        "\\text{Costo Futuro} = \\text{Costo Actual} \\times (1 + \\text{Inflación})^n\n",
        "$$\n",
        "\n",
        "donde:\n",
        "- $\\text{Costo Actual} = 215$\n",
        "- $\\text{Inflación} = 0.075$\n",
        "- $n = 3$\n",
        "\n",
        "Sustituyendo estos valores:\n",
        "\n",
        "$$\n",
        "\\text{Costo Futuro} = 215 \\times (1 + 0.075)^3\n",
        "$$\n",
        "\n",
        "Calculamos paso a paso:\n",
        "\n",
        "1. Primero, sumamos $1 + 0.075 = 1.075$.\n",
        "2. Elevamos a la potencia de 3: $(1.075)^3 \\approx 1.242$\n",
        "3. Multiplicamos por el costo actual:\n",
        "\n",
        "   $$\n",
        "   \\text{Costo Futuro} = 215 \\times 1.242 = 266.03\n",
        "   $$\n",
        "\n",
        "Por lo tanto, si la inflación se mantiene constante, el costo del paquete en 3 años será aproximadamente **$266.03**.\n"
      ],
      "metadata": {
        "id": "yuaHiYoSFybk"
      }
    },
    {
      "cell_type": "code",
      "source": [
        "import numpy as np\n",
        "import matplotlib.pyplot as plt\n",
        "\n",
        "# Parámetros del problema\n",
        "costo_inicial = 215  # Costo del paquete en el segundo año (base actual)\n",
        "tasa_inflacion = 0.075  # Tasa de inflación anual\n",
        "anios = np.arange(0, 4)  # Años para proyectar el costo (de 0 a 3 años)\n",
        "\n",
        "# Cálculo de la evolución del costo con inflación constante\n",
        "costos = costo_inicial * (1 + tasa_inflacion) ** anios\n",
        "\n",
        "# Gráfica de la evolución del costo del paquete\n",
        "plt.figure(figsize=(10, 6))\n",
        "plt.plot(anios, costos, marker='o', linestyle='-', color=\"blue\", label=\"Costo Proyectado\")\n",
        "plt.xlabel(\"Años desde el Año 2\")\n",
        "plt.ylabel(\"Costo del Paquete ($)\")\n",
        "plt.title(\"Evolución del Costo del Paquete con Inflación Constante\")\n",
        "plt.xticks(anios)\n",
        "plt.axhline(y=costos[-1], color=\"red\", linestyle=\"--\", label=f\"Costo en 3 Años: ${costos[-1]:.2f}\")\n",
        "plt.legend()\n",
        "plt.grid(True)\n",
        "plt.show()"
      ],
      "metadata": {
        "id": "kZMo-opgGK4h"
      },
      "execution_count": null,
      "outputs": []
    }
  ]
}